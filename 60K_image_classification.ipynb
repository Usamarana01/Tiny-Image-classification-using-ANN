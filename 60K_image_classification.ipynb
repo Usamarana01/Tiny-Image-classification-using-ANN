{
  "nbformat": 4,
  "nbformat_minor": 0,
  "metadata": {
    "colab": {
      "provenance": []
    },
    "kernelspec": {
      "name": "python3",
      "display_name": "Python 3"
    },
    "language_info": {
      "name": "python"
    }
  },
  "cells": [
    {
      "cell_type": "markdown",
      "source": [
        "# **Image Classification using ANN**\n",
        "\n",
        "In this project, we explore the task of image classification using Artificial Neural Networks (ANNs). ANNs are a type of neural network where neurons in one layer are connected to all neurons in the next layer\n",
        "   "
      ],
      "metadata": {
        "id": "FFgsFFgy-HG2"
      }
    },
    {
      "cell_type": "code",
      "execution_count": 2,
      "metadata": {
        "id": "0yPPHBudvg3o"
      },
      "outputs": [],
      "source": [
        "import numpy as mp\n",
        "import pandas as pd\n",
        "import tensorflow as tf\n",
        "from tensorflow import keras\n",
        "import matplotlib.pyplot as plt\n",
        "%matplotlib inline"
      ]
    },
    {
      "cell_type": "markdown",
      "source": [
        "# **The CIFAR-10 dataset**\n",
        "\n",
        "The CIFAR-10 dataset consists of 60000 32x32 colour images in 10 classes, with 6000 images per class. There are 50000 training images and 10000 test images.\n",
        "\n",
        "The dataset is divided into five training batches and one test batch, each with 10000 images. The test batch contains exactly 1000 randomly-selected images from each class. The training batches contain the remaining images in random order, but some training batches may contain more images from one class than another. Between them, the training batches contain exactly 5000 images from each class."
      ],
      "metadata": {
        "id": "RlOk-qeE-1A0"
      }
    },
    {
      "cell_type": "code",
      "source": [
        "(x_train , y_train), (x_test , y_test)=tf.keras.datasets.cifar10.load_data()"
      ],
      "metadata": {
        "id": "OsIkvRHHvh4R"
      },
      "execution_count": 3,
      "outputs": []
    },
    {
      "cell_type": "markdown",
      "source": [
        "# Scalling images"
      ],
      "metadata": {
        "id": "e1J6Cx68_x4w"
      }
    },
    {
      "cell_type": "code",
      "source": [
        "x_train_scaled=x_train/255\n",
        "x_test_scaled=x_test/255"
      ],
      "metadata": {
        "id": "Ad9-fDIhwBi9"
      },
      "execution_count": 6,
      "outputs": []
    },
    {
      "cell_type": "code",
      "source": [
        "y_train[0:5]"
      ],
      "metadata": {
        "colab": {
          "base_uri": "https://localhost:8080/"
        },
        "id": "NU69PnRJAtQX",
        "outputId": "07d1b399-f013-4b2d-d858-d7b4cbc4cafb"
      },
      "execution_count": 7,
      "outputs": [
        {
          "output_type": "execute_result",
          "data": {
            "text/plain": [
              "array([[6],\n",
              "       [9],\n",
              "       [9],\n",
              "       [4],\n",
              "       [1]], dtype=uint8)"
            ]
          },
          "metadata": {},
          "execution_count": 7
        }
      ]
    },
    {
      "cell_type": "markdown",
      "source": [
        "# one hot encoding\n",
        "changing the cetagorical values into numarical values"
      ],
      "metadata": {
        "id": "3MOwNYbfCq8Y"
      }
    },
    {
      "cell_type": "code",
      "source": [
        "y_train_categorical= keras.utils.to_categorical(\n",
        "    y_train, num_classes=10,dtype='float32'\n",
        ")\n",
        "y_train_categorical[0:5]"
      ],
      "metadata": {
        "colab": {
          "base_uri": "https://localhost:8080/"
        },
        "id": "-5NHWWPYBRUo",
        "outputId": "307278c2-eef9-4a7b-8928-99f70149ac32"
      },
      "execution_count": 9,
      "outputs": [
        {
          "output_type": "execute_result",
          "data": {
            "text/plain": [
              "array([[0., 0., 0., 0., 0., 0., 1., 0., 0., 0.],\n",
              "       [0., 0., 0., 0., 0., 0., 0., 0., 0., 1.],\n",
              "       [0., 0., 0., 0., 0., 0., 0., 0., 0., 1.],\n",
              "       [0., 0., 0., 0., 1., 0., 0., 0., 0., 0.],\n",
              "       [0., 1., 0., 0., 0., 0., 0., 0., 0., 0.]], dtype=float32)"
            ]
          },
          "metadata": {},
          "execution_count": 9
        }
      ]
    },
    {
      "cell_type": "code",
      "source": [
        "y_test_categorical= keras.utils.to_categorical(\n",
        "    y_test, num_classes=10,dtype='float32'\n",
        ")\n",
        "y_test_categorical[0:5]"
      ],
      "metadata": {
        "colab": {
          "base_uri": "https://localhost:8080/"
        },
        "id": "j7RLjtlaDXQt",
        "outputId": "5561ce30-6d4c-4382-82ef-85ba778d2607"
      },
      "execution_count": 10,
      "outputs": [
        {
          "output_type": "execute_result",
          "data": {
            "text/plain": [
              "array([[0., 0., 0., 1., 0., 0., 0., 0., 0., 0.],\n",
              "       [0., 0., 0., 0., 0., 0., 0., 0., 1., 0.],\n",
              "       [0., 0., 0., 0., 0., 0., 0., 0., 1., 0.],\n",
              "       [1., 0., 0., 0., 0., 0., 0., 0., 0., 0.],\n",
              "       [0., 0., 0., 0., 0., 0., 1., 0., 0., 0.]], dtype=float32)"
            ]
          },
          "metadata": {},
          "execution_count": 10
        }
      ]
    },
    {
      "cell_type": "code",
      "source": [
        "class_labels=['truck','ship','horse','frog','dog','deer','cat','bird','automobile','airplane']"
      ],
      "metadata": {
        "id": "VjnUq13D6m3g"
      },
      "execution_count": null,
      "outputs": []
    },
    {
      "cell_type": "markdown",
      "source": [
        " # Artificial Neural Network Model with 2 hidden layers"
      ],
      "metadata": {
        "id": "acnVKcaRGg1v"
      }
    },
    {
      "cell_type": "code",
      "source": [
        "model=keras.Sequential([\n",
        "    keras.layers.Flatten(input_shape=(32,32,3)),\n",
        "    keras.layers.Dense(3000 , activation='relu'),\n",
        "    keras.layers.Dense(1500 , activation='relu'),\n",
        "     keras.layers.Dense(10 , activation='sigmoid')\n",
        "])\n",
        "\n",
        "model.compile(\n",
        "    optimizer='adam',\n",
        "    loss='categorical_crossentropy',\n",
        "    metrics=['accuracy']\n",
        ")\n",
        "model.fit(x_train_scaled , y_train_categorical , epochs=10\n",
        ")"
      ],
      "metadata": {
        "id": "9T-Aaz4ILkEX"
      },
      "execution_count": null,
      "outputs": []
    },
    {
      "cell_type": "code",
      "source": [
        "np.argmax(model.predict(x_test_scaled)[1])"
      ],
      "metadata": {
        "id": "bUOVslVX_4a8"
      },
      "execution_count": null,
      "outputs": []
    },
    {
      "cell_type": "code",
      "source": [
        "class_labels(y_test[1][0])"
      ],
      "metadata": {
        "id": "lSxt4XNd7EAB"
      },
      "execution_count": null,
      "outputs": []
    },
    {
      "cell_type": "code",
      "source": [],
      "metadata": {
        "id": "B4t02EwrAMv7"
      },
      "execution_count": null,
      "outputs": []
    }
  ]
}